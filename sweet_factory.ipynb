{
 "cells": [
  {
   "cell_type": "code",
   "execution_count": null,
   "id": "de9c39db-0024-478d-bf7a-3741164c9049",
   "metadata": {},
   "outputs": [],
   "source": [
    "from datetime import datetime\n",
    "from datetime import date\n",
    "import pandas as pd\n",
    "import numpy as np\n",
    "import matplotlib.pyplot as plt\n",
    "from IPython.display import Image\n",
    "\n",
    "%matplotlib inline"
   ]
  },
  {
   "cell_type": "code",
   "execution_count": null,
   "id": "e7dc0f18-ff32-4bad-add9-237650a2787e",
   "metadata": {},
   "outputs": [],
   "source": [
    "def read_mta(file_nums):\n",
    "    path ='http://web.mta.info/developers/data/nyct/turnstile/turnstile_'\n",
    "    allFiles = []\n",
    "    for i in file_nums:\n",
    "        allFiles.append(path + i + \".txt\")\n",
    "    df_list = [pd.read_csv(file) for file in allFiles]\n",
    "    df = pd.concat(df_list)\n",
    "    df.columns = df.columns.str.strip()\n",
    "    return df"
   ]
  },
  {
   "cell_type": "code",
   "execution_count": null,
   "id": "0f9aa194-cc00-4383-a2e6-fdfeb7aa5c3e",
   "metadata": {},
   "outputs": [],
   "source": [
    "df = read_mta(['191228', '191221', '191214', '191207','191130','191123','191116','191109','191102','191026','191019','191012','191005'])"
   ]
  },
  {
   "cell_type": "code",
   "execution_count": null,
   "id": "557c5053-aba3-4c71-94ca-7a78ea1bea08",
   "metadata": {},
   "outputs": [],
   "source": [
    " df[df.DESC == 'RECOVR AUD']"
   ]
  },
  {
   "cell_type": "code",
   "execution_count": null,
   "id": "145d5155-b16a-4050-ba2b-54cd2fec4c1f",
   "metadata": {},
   "outputs": [],
   "source": [
    "# remove duplicates\n",
    "df = df[df.DESC != 'RECOVR AUD']\n",
    "df = df[df.TIME != '04:01:13']\n",
    "# Sanity check to verify that \"C/A\", \"UNIT\", \"SCP\", \"STATION\", \"DATE_TIME\" is unique\n",
    "(df\n",
    " .groupby(['C/A', 'UNIT', 'SCP', 'STATION', 'DATE', 'TIME'])\n",
    " .ENTRIES.count()\n",
    " .reset_index()\n",
    " .sort_values(\"ENTRIES\", ascending=False)).head()"
   ]
  },
  {
   "cell_type": "code",
   "execution_count": null,
   "id": "295b13cf-3592-4088-98ac-807f291a8459",
   "metadata": {},
   "outputs": [],
   "source": [
    "# data is at a turnstile level\n",
    "df.head()"
   ]
  },
  {
   "cell_type": "code",
   "execution_count": null,
   "id": "aecc30f0-a70c-4094-8388-3fb5e4aa3375",
   "metadata": {},
   "outputs": [],
   "source": [
    "df['DATETIME'] = pd.to_datetime(df.DATE + ' ' + df.TIME)"
   ]
  },
  {
   "cell_type": "code",
   "execution_count": null,
   "id": "0279ccff-ebcd-4641-927a-f0f0e5d0939f",
   "metadata": {},
   "outputs": [],
   "source": [
    "df = df.set_index(['DATETIME'])\n",
    "#df.head()"
   ]
  },
  {
   "cell_type": "code",
   "execution_count": null,
   "id": "eadb81df-0287-4f8e-97e6-73221e0de8db",
   "metadata": {},
   "outputs": [],
   "source": [
    "# filter dataset to 11:59am to 8pm\n",
    "afternoon = df.between_time('11:59:00', '20:01:00')\n",
    "afternoon.head()"
   ]
  },
  {
   "cell_type": "code",
   "execution_count": null,
   "id": "888b5efe-8661-4d89-8134-711f37f6a28f",
   "metadata": {},
   "outputs": [],
   "source": [
    "# subtract max from min for each turnstile to get exits\n",
    "afternoon_turn = (afternoon.groupby(['C/A', 'UNIT', 'SCP', 'STATION', 'DATE'])['EXITS'].max()\\\n",
    "           -afternoon.groupby(['C/A', 'UNIT', 'SCP', 'STATION', 'DATE'])['EXITS'].min()).reset_index()"
   ]
  },
  {
   "cell_type": "code",
   "execution_count": null,
   "id": "33c6f2db-f727-491b-b0e9-f7c4f5ce7969",
   "metadata": {},
   "outputs": [],
   "source": [
    "#explore outliers\n",
    "afternoon_turn['EXITS'].describe()"
   ]
  },
  {
   "cell_type": "code",
   "execution_count": null,
   "id": "73f68a7d-6679-43bb-a4da-9aa5dafc14af",
   "metadata": {},
   "outputs": [],
   "source": [
    "afternoon_turn['EXITS'].sort_values(ascending = True).tail(10)"
   ]
  },
  {
   "cell_type": "code",
   "execution_count": null,
   "id": "91820387-347e-461f-b9c7-1bc623c8c0e9",
   "metadata": {},
   "outputs": [],
   "source": [
    "# removing values that appear to be counter resets\n",
    "afternoon_turn = afternoon_turn[afternoon_turn.EXITS <= 11000]"
   ]
  },
  {
   "cell_type": "code",
   "execution_count": null,
   "id": "39f41198-07bf-46d6-a6f9-001205ba94ed",
   "metadata": {},
   "outputs": [],
   "source": [
    "afternoon_turn.head()\n",
    "#afternoon_turn.shape"
   ]
  },
  {
   "cell_type": "code",
   "execution_count": null,
   "id": "3fabb285-b485-4c6f-bdd8-5c4267dc0ac0",
   "metadata": {},
   "outputs": [],
   "source": [
    "# add up total afternoon exits per station\n",
    "afternoon_station = afternoon_turn.groupby(['STATION', 'DATE']).sum().reset_index()\n",
    "afternoon_station['DATE'] = pd.to_datetime(afternoon_station['DATE'])\n",
    "afternoon_station.head()"
   ]
  },
  {
   "cell_type": "code",
   "execution_count": null,
   "id": "f2dd767e-f831-492f-8e7e-48b6d4762fe6",
   "metadata": {},
   "outputs": [],
   "source": [
    "# summing for whole month\n",
    "afternoon_month = afternoon_station.groupby(['STATION'])['EXITS'].sum().reset_index()\n",
    "afternoon_month = afternoon_month.set_index('STATION')"
   ]
  },
  {
   "cell_type": "code",
   "execution_count": null,
   "id": "c25a8b98-f9da-4213-8184-2342368e25d0",
   "metadata": {},
   "outputs": [],
   "source": [
    "# determine busiest stations\n",
    "topsts = afternoon_month.sort_values('EXITS', ascending=False).head(15)\n",
    "topsts.head()\n",
    "topsts.plot(kind='barh', title='Afternoon Exits by Station', color = '#008080')"
   ]
  },
  {
   "cell_type": "code",
   "execution_count": null,
   "id": "09187bd8-594f-4b71-9c6a-92c83cb87e99",
   "metadata": {},
   "outputs": [],
   "source": [
    "#sns.histplot(afternoon_station['DATE'].tail(10), kde=True,bins=8, stat='density');"
   ]
  },
  {
   "cell_type": "code",
   "execution_count": null,
   "id": "deae8db7-3c6c-4871-871d-29dd32c41d94",
   "metadata": {},
   "outputs": [],
   "source": [
    "# limit to Grand Central at turnstile level\n",
    "grdcentral = df[df['STATION'] == 'GRD CNTRL-42 ST']"
   ]
  },
  {
   "cell_type": "code",
   "execution_count": null,
   "id": "769ef75f-5434-4c7c-9a15-7c68fce53e0a",
   "metadata": {},
   "outputs": [],
   "source": [
    "grdcentral.shape"
   ]
  },
  {
   "cell_type": "code",
   "execution_count": null,
   "id": "6784247d-ff00-4777-ad9f-6f8381b40828",
   "metadata": {},
   "outputs": [],
   "source": [
    "grdcentral.head()"
   ]
  },
  {
   "cell_type": "code",
   "execution_count": null,
   "id": "8666c7d7-33cf-480d-9a60-72c49d168d9d",
   "metadata": {},
   "outputs": [],
   "source": [
    "turnstiles = grdcentral['SCP'].unique()"
   ]
  },
  {
   "cell_type": "code",
   "execution_count": null,
   "id": "d959862f-9198-4252-be7d-3bc029da60f4",
   "metadata": {},
   "outputs": [],
   "source": [
    "masked_dfs = []\n",
    "for i in turnstiles:\n",
    "    mask = grdcentral[((grdcentral[\"C/A\"] == \"R236\") & \n",
    "    (grdcentral[\"UNIT\"] == \"R045\") & \n",
    "    (grdcentral[\"SCP\"] ==  i) & \n",
    "    (grdcentral[\"STATION\"] == \"GRD CNTRL-42 ST\"))]\n",
    "            \n",
    "    mask['DIFFS'] = mask['EXITS'].diff()\n",
    "    masked_dfs.append(mask)"
   ]
  },
  {
   "cell_type": "code",
   "execution_count": null,
   "id": "a445718a-f8c3-45d6-b281-a483f55849ae",
   "metadata": {},
   "outputs": [],
   "source": [
    "exits_turn = pd.concat(masked_dfs)"
   ]
  },
  {
   "cell_type": "code",
   "execution_count": null,
   "id": "08fc97b2-7201-4672-a68f-8f402b725295",
   "metadata": {},
   "outputs": [],
   "source": [
    "exits_turn = exits_turn[exits_turn['DIFFS'] >= 0]"
   ]
  },
  {
   "cell_type": "code",
   "execution_count": null,
   "id": "813ddc3b-8eef-417a-8f59-8d331256efb3",
   "metadata": {},
   "outputs": [],
   "source": [
    "# now have turnstile exits per four period (diffs column)\n",
    "#exits_turn.tail()\n",
    "#exits_turn\n",
    "exits_turn[(exits_turn.DATE=='10/04/2019')].DIFFS.sum()"
   ]
  },
  {
   "cell_type": "code",
   "execution_count": null,
   "id": "3f70a4f1-4cfc-41c7-a3d5-0b66c82ff288",
   "metadata": {},
   "outputs": [],
   "source": [
    "exits_turn.tail()"
   ]
  },
  {
   "cell_type": "code",
   "execution_count": null,
   "id": "a7cd1ec6-7da7-4259-9b70-552e4c790083",
   "metadata": {},
   "outputs": [],
   "source": [
    "# add exits across turnstiles by time\n",
    "exits_turn = exits_turn.reset_index()\n",
    "ct = exits_turn.groupby(['DATETIME'])['DIFFS'].sum().reset_index()"
   ]
  },
  {
   "cell_type": "code",
   "execution_count": null,
   "id": "21594306-b184-4f4e-90ea-9bc3863dfc96",
   "metadata": {},
   "outputs": [],
   "source": [
    "ct.set_index(['DATETIME'], inplace=True)\n",
    "ct.head()"
   ]
  },
  {
   "cell_type": "code",
   "execution_count": null,
   "id": "6f9a92f8-4d9a-47a1-80e5-109c2acfab29",
   "metadata": {},
   "outputs": [],
   "source": [
    "plt.figure(figsize=(12,8))\n",
    "\n",
    "\n",
    "plt.xticks(rotation=200)\n",
    "weekday1 = ct[(ct.index > '2019-11-05 23:00:00') & (ct.index < '2019-11-07 06:00:00')]\n",
    "weekday1['DIFFS'].plot(title = 'Number of People Exiting Grand Central for One Day', color = '#008080' )"
   ]
  },
  {
   "cell_type": "code",
   "execution_count": null,
   "id": "bcc2b817-886b-4dcd-a569-fb1b9045ec51",
   "metadata": {},
   "outputs": [],
   "source": []
  },
  {
   "cell_type": "code",
   "execution_count": null,
   "id": "1ffaad62-0541-4c5d-8334-694a2bd203c3",
   "metadata": {},
   "outputs": [],
   "source": []
  },
  {
   "cell_type": "code",
   "execution_count": null,
   "id": "e52de303-ac33-41f6-9df6-498b784fa6d6",
   "metadata": {},
   "outputs": [],
   "source": []
  },
  {
   "cell_type": "code",
   "execution_count": null,
   "id": "3d2a0631-072f-4e13-90c5-efae02e7459b",
   "metadata": {},
   "outputs": [],
   "source": []
  }
 ],
 "metadata": {
  "kernelspec": {
   "display_name": "Python 3",
   "language": "python",
   "name": "python3"
  },
  "language_info": {
   "codemirror_mode": {
    "name": "ipython",
    "version": 3
   },
   "file_extension": ".py",
   "mimetype": "text/x-python",
   "name": "python",
   "nbconvert_exporter": "python",
   "pygments_lexer": "ipython3",
   "version": "3.8.8"
  }
 },
 "nbformat": 4,
 "nbformat_minor": 5
}
